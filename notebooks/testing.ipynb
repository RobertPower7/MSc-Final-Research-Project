{
 "cells": [
  {
   "cell_type": "markdown",
   "source": [
    "# Testing Notebook\n",
    "This notebook comprises the tests to ensure that the implementation is correct. These tests mainly consist of dimensionality checks."
   ],
   "metadata": {
    "collapsed": false
   },
   "id": "98c453740dec10c9"
  },
  {
   "cell_type": "markdown",
   "source": [
    "## Particle"
   ],
   "metadata": {
    "collapsed": false
   },
   "id": "f526b034826feac8"
  },
  {
   "cell_type": "code",
   "execution_count": 2,
   "outputs": [],
   "source": [
    "from src.network import SimpleNN\n",
    "from src.pso import Particle"
   ],
   "metadata": {
    "collapsed": false,
    "ExecuteTime": {
     "end_time": "2025-02-16T11:26:10.999522200Z",
     "start_time": "2025-02-16T11:26:04.073989700Z"
    }
   },
   "id": "initial_id"
  },
  {
   "cell_type": "code",
   "execution_count": 3,
   "outputs": [
    {
     "name": "stdout",
     "output_type": "stream",
     "text": [
      "Particle Position: [-0.73656087  0.11022458  0.53818321 ...  0.62296536 -0.87309189\n",
      " -0.85973159]\n",
      "Particle Velocity: [-0.09980016 -0.42268111  0.12379271 ... -0.29028329 -0.47410733\n",
      "  0.20698876]\n",
      "Particle initialization test passed.\n"
     ]
    }
   ],
   "source": [
    "# Define the model\n",
    "model = SimpleNN()\n",
    "\n",
    "# Set initialization ranges for position and velocity\n",
    "position_init_range = [-1, 1]\n",
    "velocity_init_range = [-0.5, 0.5]\n",
    "\n",
    "# Create a particle\n",
    "particle = Particle(model, position_init_range, velocity_init_range)\n",
    "\n",
    "# Check if particle position and velocity are within the specified initialization ranges\n",
    "print(\"Particle Position:\", particle.position)\n",
    "print(\"Particle Velocity:\", particle.velocity)\n",
    "\n",
    "# Ensure positions and velocities are within the correct ranges\n",
    "assert position_init_range[0] <= particle.position.min() <= particle.position.max() <= position_init_range[1]\n",
    "assert velocity_init_range[0] <= particle.velocity.min() <= particle.velocity.max() <= velocity_init_range[1]\n",
    "print(\"Particle initialization test passed.\")\n"
   ],
   "metadata": {
    "collapsed": false,
    "ExecuteTime": {
     "end_time": "2025-02-16T11:26:11.103986400Z",
     "start_time": "2025-02-16T11:26:10.987993400Z"
    }
   },
   "id": "d7f13531de9deb86"
  },
  {
   "cell_type": "code",
   "execution_count": 4,
   "outputs": [
    {
     "name": "stdout",
     "output_type": "stream",
     "text": [
      "Expected Dimensionality: 20710\n",
      "Particle Position Dimensionality: 20710\n",
      "Particle Velocity Dimensionality: 20710\n",
      "Particle dimensionality test passed.\n"
     ]
    }
   ],
   "source": [
    "# Calculate the expected dimensionality (number of parameters in the model)\n",
    "expected_dim = sum(p.numel() for p in model.parameters())\n",
    "\n",
    "# Check if particle position and velocity have the correct dimensionality\n",
    "print(\"Expected Dimensionality:\", expected_dim)\n",
    "print(\"Particle Position Dimensionality:\", len(particle.position))\n",
    "print(\"Particle Velocity Dimensionality:\", len(particle.velocity))\n",
    "\n",
    "# Assert that position and velocity have the correct dimensions\n",
    "assert len(particle.position) == expected_dim, \"Particle position dimensionality is incorrect.\"\n",
    "assert len(particle.velocity) == expected_dim, \"Particle velocity dimensionality is incorrect.\"\n",
    "\n",
    "print(\"Particle dimensionality test passed.\")"
   ],
   "metadata": {
    "collapsed": false,
    "ExecuteTime": {
     "end_time": "2025-02-16T11:26:19.001750400Z",
     "start_time": "2025-02-16T11:26:18.964015800Z"
    }
   },
   "id": "e40b3a868816fc8"
  },
  {
   "cell_type": "markdown",
   "source": [
    "## PSO"
   ],
   "metadata": {
    "collapsed": false
   },
   "id": "a114cc4b3e4a1c44"
  },
  {
   "cell_type": "markdown",
   "source": [
    "### Vanilla PSO"
   ],
   "metadata": {
    "collapsed": false
   },
   "id": "5fb0885a87f15171"
  },
  {
   "cell_type": "code",
   "execution_count": 5,
   "outputs": [
    {
     "data": {
      "text/plain": "True"
     },
     "execution_count": 5,
     "metadata": {},
     "output_type": "execute_result"
    }
   ],
   "source": [
    "from src.pso import PSO\n",
    "from torchvision import datasets, transforms\n",
    "from torch.utils.data import DataLoader\n",
    "import torch\n",
    "torch.cuda.is_available()"
   ],
   "metadata": {
    "collapsed": false,
    "ExecuteTime": {
     "end_time": "2025-02-16T11:26:52.573809Z",
     "start_time": "2025-02-16T11:26:49.183959800Z"
    }
   },
   "id": "2e11cf82ec42b8cb"
  },
  {
   "cell_type": "code",
   "execution_count": 7,
   "outputs": [],
   "source": [
    "# Define the model\n",
    "model = SimpleNN()\n",
    "\n",
    "# Set PSO parameters\n",
    "boundary_interval = [-1, 1]\n",
    "position_init_range = [-1, 1]\n",
    "velocity_init_range = [-0.5, 0.5]\n",
    "swarm_size = 10  # Smaller swarm size for testing\n",
    "\n",
    "# Configure PSO model\n",
    "pso = PSO(\n",
    "    model=model,\n",
    "    boundary_interval=boundary_interval,\n",
    "    position_init_range=position_init_range,\n",
    "    velocity_init_range=velocity_init_range,\n",
    "    swarm_size=swarm_size\n",
    ")"
   ],
   "metadata": {
    "collapsed": false,
    "ExecuteTime": {
     "end_time": "2025-02-16T11:27:09.142210100Z",
     "start_time": "2025-02-16T11:27:09.061445200Z"
    }
   },
   "id": "3919693b0d03e74f"
  },
  {
   "cell_type": "code",
   "execution_count": 8,
   "outputs": [
    {
     "name": "stdout",
     "output_type": "stream",
     "text": [
      "Particle 1 position and velocity dimensionality are correct.\n",
      "Particle 2 position and velocity dimensionality are correct.\n",
      "Particle 3 position and velocity dimensionality are correct.\n",
      "Particle 4 position and velocity dimensionality are correct.\n",
      "Particle 5 position and velocity dimensionality are correct.\n",
      "Particle 6 position and velocity dimensionality are correct.\n",
      "Particle 7 position and velocity dimensionality are correct.\n",
      "Particle 8 position and velocity dimensionality are correct.\n",
      "Particle 9 position and velocity dimensionality are correct.\n",
      "Particle 10 position and velocity dimensionality are correct.\n",
      "Swarm dimensionality test passed.\n"
     ]
    }
   ],
   "source": [
    "# Calculate expected dimensionality based on model parameters\n",
    "expected_dim = sum(p.numel() for p in model.parameters())\n",
    "\n",
    "# Check dimensionality of each particle in the PSO swarm\n",
    "for i, particle in enumerate(pso.particles):\n",
    "    assert len(particle.position) == expected_dim, f\"Particle {i+1} position dimensionality is incorrect.\"\n",
    "    assert len(particle.velocity) == expected_dim, f\"Particle {i+1} velocity dimensionality is incorrect.\"\n",
    "    print(f\"Particle {i+1} position and velocity dimensionality are correct.\")\n",
    "\n",
    "print(\"Swarm dimensionality test passed.\")"
   ],
   "metadata": {
    "collapsed": false,
    "ExecuteTime": {
     "end_time": "2025-02-16T11:27:10.573882200Z",
     "start_time": "2025-02-16T11:27:10.505351500Z"
    }
   },
   "id": "6d461fa12d93fb79"
  },
  {
   "cell_type": "code",
   "execution_count": 9,
   "outputs": [
    {
     "name": "stdout",
     "output_type": "stream",
     "text": [
      "Training set size: 60000 entries\n",
      "Test set size: 10000 data entries\n"
     ]
    }
   ],
   "source": [
    "# Define transformations for resizing and normalizing the images\n",
    "transform = transforms.Compose([\n",
    "    transforms.Resize((14, 14)),  # Resize images to 14x14 as specified\n",
    "    transforms.ToTensor(),\n",
    "])\n",
    "\n",
    "# Load the MNIST training and test sets separately\n",
    "train_dataset = datasets.MNIST(root='data', train=True, transform=transform, download=True)\n",
    "test_dataset = datasets.MNIST(root='data', train=False, transform=transform, download=True)\n",
    "\n",
    "# Check the sizes of each dataset\n",
    "train_size = len(train_dataset)\n",
    "test_size = len(test_dataset)\n",
    "\n",
    "print(f\"Training set size: {train_size} entries\")\n",
    "print(f\"Test set size: {test_size} data entries\")"
   ],
   "metadata": {
    "collapsed": false,
    "ExecuteTime": {
     "end_time": "2025-02-16T11:27:20.600888300Z",
     "start_time": "2025-02-16T11:27:20.382879100Z"
    }
   },
   "id": "878b7a7f28c1aaf"
  },
  {
   "cell_type": "code",
   "execution_count": 10,
   "outputs": [],
   "source": [
    "# Initialize data loaders for training and testing\n",
    "train_loader = DataLoader(train_dataset, batch_size=64, shuffle=True)\n",
    "test_loader = DataLoader(test_dataset, batch_size=64, shuffle=False)"
   ],
   "metadata": {
    "collapsed": false,
    "ExecuteTime": {
     "end_time": "2025-02-16T11:27:24.000378400Z",
     "start_time": "2025-02-16T11:27:23.914267600Z"
    }
   },
   "id": "667da46159c8f96e"
  },
  {
   "cell_type": "code",
   "execution_count": 11,
   "outputs": [
    {
     "name": "stdout",
     "output_type": "stream",
     "text": [
      "Testing stopping by iterations...\n"
     ]
    },
    {
     "name": "stderr",
     "output_type": "stream",
     "text": [
      "Optimization Progress: 100%|██████████| 5/5 [08:51<00:00, 106.26s/it, Iteration=5, Train Error=2.94, Test Error=2.95]\n"
     ]
    },
    {
     "data": {
      "text/plain": "<Figure size 1000x600 with 1 Axes>",
      "image/png": "[encoded data removed]"
     },
     "metadata": {},
     "output_type": "display_data"
    }
   ],
   "source": [
    "# Re-initialize the model and PSO for testing stopping by iterations\n",
    "model = SimpleNN()\n",
    "pso_iterations = PSO(\n",
    "    model=model,\n",
    "    boundary_interval=boundary_interval,\n",
    "    position_init_range=position_init_range,\n",
    "    velocity_init_range=velocity_init_range,\n",
    "    swarm_size=swarm_size\n",
    ")\n",
    "\n",
    "# Run PSO optimization with stopping by iterations\n",
    "print(\"Testing stopping by iterations...\")\n",
    "pso_iterations.optimize(\n",
    "    train_loader=train_loader,\n",
    "    test_loader=test_loader,\n",
    "    iterations=5,          # Specify number of iterations for stopping\n",
    "    stop_by='iterations',\n",
    "    activation='sigmoid'\n",
    ")"
   ],
   "metadata": {
    "collapsed": false,
    "ExecuteTime": {
     "end_time": "2025-02-16T11:37:29.103540400Z",
     "start_time": "2025-02-16T11:28:37.301533900Z"
    }
   },
   "id": "f4fb041d35d367c9"
  },
  {
   "cell_type": "code",
   "execution_count": null,
   "outputs": [],
   "source": [],
   "metadata": {
    "collapsed": false,
    "ExecuteTime": {
     "start_time": "2024-11-13T13:25:05.354817600Z"
    }
   },
   "id": "243fe9ad036eba6d"
  }
 ],
 "metadata": {
  "kernelspec": {
   "display_name": "Python 3",
   "language": "python",
   "name": "python3"
  },
  "language_info": {
   "codemirror_mode": {
    "name": "ipython",
    "version": 2
   },
   "file_extension": ".py",
   "mimetype": "text/x-python",
   "name": "python",
   "nbconvert_exporter": "python",
   "pygments_lexer": "ipython2",
   "version": "2.7.6"
  }
 },
 "nbformat": 4,
 "nbformat_minor": 5
}
