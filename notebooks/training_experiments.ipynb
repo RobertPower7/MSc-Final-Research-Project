{
 "cells": [
  {
   "cell_type": "code",
   "execution_count": 5,
   "id": "initial_id",
   "metadata": {
    "collapsed": true,
    "ExecuteTime": {
     "end_time": "2024-11-13T11:23:07.728146900Z",
     "start_time": "2024-11-13T11:23:07.712524500Z"
    }
   },
   "outputs": [],
   "source": [
    "import torch\n",
    "from torchvision import datasets, transforms\n",
    "from torch.utils.data import DataLoader"
   ]
  },
  {
   "cell_type": "code",
   "execution_count": 3,
   "outputs": [
    {
     "name": "stdout",
     "output_type": "stream",
     "text": [
      "Batch of images shape: torch.Size([64, 1, 14, 14])\n",
      "Batch of labels shape: torch.Size([64])\n"
     ]
    }
   ],
   "source": [
    "# Transformation of images\n",
    "transform = transforms.Compose([\n",
    "    transforms.Resize((14, 14)),  # Resizing to 14x14 as per the paper\n",
    "    transforms.ToTensor(),\n",
    "])\n",
    "\n",
    "# Load the MNIST dataset\n",
    "train_dataset = datasets.MNIST(root='data', train=True, transform=transform, download=True)\n",
    "test_dataset = datasets.MNIST(root='data', train=False, transform=transform, download=True)\n",
    "\n",
    "# Data loaders\n",
    "train_loader = DataLoader(train_dataset, batch_size=64, shuffle=True)\n",
    "test_loader = DataLoader(test_dataset, batch_size=64, shuffle=False)\n",
    "\n",
    "# Verify data shape\n",
    "for images, labels in train_loader:\n",
    "    print(\"Batch of images shape:\", images.shape)\n",
    "    print(\"Batch of labels shape:\", labels.shape)\n",
    "    break"
   ],
   "metadata": {
    "collapsed": false,
    "ExecuteTime": {
     "end_time": "2024-11-13T11:21:42.473284900Z",
     "start_time": "2024-11-13T11:21:42.363904300Z"
    }
   },
   "id": "ca52d32f9a4e8697"
  }
 ],
 "metadata": {
  "kernelspec": {
   "display_name": "Python 3",
   "language": "python",
   "name": "python3"
  },
  "language_info": {
   "codemirror_mode": {
    "name": "ipython",
    "version": 2
   },
   "file_extension": ".py",
   "mimetype": "text/x-python",
   "name": "python",
   "nbconvert_exporter": "python",
   "pygments_lexer": "ipython2",
   "version": "2.7.6"
  }
 },
 "nbformat": 4,
 "nbformat_minor": 5
}
