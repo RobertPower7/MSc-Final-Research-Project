{
 "cells": [
  {
   "cell_type": "code",
   "execution_count": 1,
   "outputs": [],
   "source": [
    "import numpy as np\n",
    "import torch\n",
    "import torch.nn as nn\n",
    "import torch.optim as optim\n",
    "import torchvision.transforms as transforms\n",
    "import pyswarms as ps\n",
    "from pyswarms.utils.functions import single_obj as fx\n",
    "import matplotlib.pyplot as plt\n",
    "from sklearn.model_selection import train_test_split"
   ],
   "metadata": {
    "collapsed": false,
    "ExecuteTime": {
     "end_time": "2025-02-16T14:25:27.637318900Z",
     "start_time": "2025-02-16T14:25:18.520585400Z"
    }
   },
   "id": "56e4c9cad822de3d"
  },
  {
   "cell_type": "code",
   "execution_count": 2,
   "outputs": [
    {
     "name": "stdout",
     "output_type": "stream",
     "text": [
      "(4000, 40)\n",
      "(12000, 40)\n",
      "(4000,)\n",
      "(12000,)\n"
     ]
    }
   ],
   "source": [
    "# Generate the MNIST-1D dataset with 4000 + 12000 samples\n",
    "from mnist1d.data import make_dataset, get_dataset_args\n",
    "\n",
    "args = get_dataset_args()\n",
    "args.num_samples = 16_000\n",
    "args.train_split = 0.25\n",
    "\n",
    "data = make_dataset(args)\n",
    "\n",
    "print(data['x'].shape)\n",
    "print(data['x_test'].shape)\n",
    "print(data['y'].shape)\n",
    "print(data['y_test'].shape)"
   ],
   "metadata": {
    "collapsed": false,
    "ExecuteTime": {
     "end_time": "2025-02-16T14:25:36.203002200Z",
     "start_time": "2025-02-16T14:25:27.644320800Z"
    }
   },
   "id": "8c903cf6a519accb"
  },
  {
   "cell_type": "code",
   "execution_count": 3,
   "outputs": [],
   "source": [
    "# Add 15% noise to training labels\n",
    "\n",
    "import copy\n",
    "data_with_label_noise = copy.deepcopy(data)\n",
    "\n",
    "for i in range(len(data['y'])):\n",
    "    if np.random.random_sample() < 0.15:\n",
    "        data_with_label_noise['y'][i] = np.random.randint(0, 10)"
   ],
   "metadata": {
    "collapsed": false,
    "ExecuteTime": {
     "end_time": "2025-02-16T14:25:36.227159Z",
     "start_time": "2025-02-16T14:25:36.197001900Z"
    }
   },
   "id": "5acddcf249318cdc"
  },
  {
   "cell_type": "code",
   "execution_count": 4,
   "outputs": [
    {
     "name": "stdout",
     "output_type": "stream",
     "text": [
      "(4000, 40)\n",
      "(12000, 40)\n",
      "(4000,)\n",
      "(12000,)\n"
     ]
    }
   ],
   "source": [
    "# Standardize format of data\n",
    "X_train = data_with_label_noise['x']\n",
    "y_train = data_with_label_noise['y']\n",
    "\n",
    "X_test = data_with_label_noise['x_test']\n",
    "y_test = data_with_label_noise['y_test']\n",
    "\n",
    "print(X_train.shape)\n",
    "print(X_test.shape)\n",
    "print(y_train.shape)\n",
    "print(y_test.shape)"
   ],
   "metadata": {
    "collapsed": false,
    "ExecuteTime": {
     "end_time": "2025-02-16T14:25:36.269107300Z",
     "start_time": "2025-02-16T14:25:36.213000300Z"
    }
   },
   "id": "f42c1ea2b9856bbb"
  },
  {
   "cell_type": "code",
   "execution_count": 5,
   "outputs": [
    {
     "name": "stdout",
     "output_type": "stream",
     "text": [
      "torch.float32\n",
      "torch.float32\n",
      "torch.int64\n",
      "torch.int64\n"
     ]
    }
   ],
   "source": [
    "# Convert data to PyTorch tensors and ensure correct data types\n",
    "X_train, X_test = map(torch.tensor, (X_train.astype(\"float32\"), X_test.astype(\"float32\")))\n",
    "y_train, y_test = map(torch.tensor, (y_train.transpose().astype(\"int64\"), y_test.transpose().astype(\"int64\")))\n",
    "\n",
    "# Ensure targets are long tensors for CrossEntropyLoss\n",
    "y_train, y_test = y_train.long(), y_test.long()\n",
    "\n",
    "print(X_train.dtype)\n",
    "print(X_test.dtype)\n",
    "print(y_train.dtype)\n",
    "print(y_test.dtype)"
   ],
   "metadata": {
    "collapsed": false,
    "ExecuteTime": {
     "end_time": "2025-02-16T14:25:36.280110300Z",
     "start_time": "2025-02-16T14:25:36.232108800Z"
    }
   },
   "id": "3f83b402986e921c"
  },
  {
   "cell_type": "code",
   "execution_count": 6,
   "outputs": [],
   "source": [
    "# Define MLP model\n",
    "class MLP(nn.Module):\n",
    "    def __init__(self, input_size=40, hidden_size=100, output_size=10):\n",
    "        super(MLP, self).__init__()\n",
    "        self.fc1 = nn.Linear(input_size, hidden_size)\n",
    "        self.relu = nn.ReLU()\n",
    "        self.fc2 = nn.Linear(hidden_size, hidden_size)\n",
    "        self.fc3 = nn.Linear(hidden_size, output_size)\n",
    "        \n",
    "    def forward(self, x):\n",
    "        x = self.relu(self.fc1(x))\n",
    "        x = self.relu(self.fc2(x))\n",
    "        x = self.fc3(x)\n",
    "        return x"
   ],
   "metadata": {
    "collapsed": false,
    "ExecuteTime": {
     "end_time": "2025-02-16T14:25:36.280110300Z",
     "start_time": "2025-02-16T14:25:36.258104600Z"
    }
   },
   "id": "8ea8ff68c67ed391"
  },
  {
   "cell_type": "code",
   "execution_count": 7,
   "outputs": [],
   "source": [
    "# Define CNN  model\n",
    "class CNN(nn.Module):\n",
    "    def __init__(self, input_channels=1, output_size=10):\n",
    "        super(CNN, self).__init__()\n",
    "        self.conv1 = nn.Conv1d(in_channels=input_channels, out_channels=32, kernel_size=3, padding=1)\n",
    "        self.relu = nn.ReLU()\n",
    "        self.pool = nn.MaxPool1d(kernel_size=2)\n",
    "        self.fc1 = nn.Linear(32 * 20, 64)\n",
    "        self.fc2 = nn.Linear(64, output_size)\n",
    "        \n",
    "    def forward(self, x):\n",
    "        x = self.pool(self.relu(self.conv1(x)))\n",
    "        x = x.view(x.shape[0], -1)\n",
    "        x = self.relu(self.fc1(x))\n",
    "        x = self.fc2(x)\n",
    "        return x"
   ],
   "metadata": {
    "collapsed": false,
    "ExecuteTime": {
     "end_time": "2025-02-16T14:25:36.301627Z",
     "start_time": "2025-02-16T14:25:36.278109600Z"
    }
   },
   "id": "85da0fce691c602d"
  },
  {
   "cell_type": "code",
   "execution_count": 8,
   "outputs": [],
   "source": [
    "# Define function to unflatten parameters\n",
    "def unflatten_params(param_vector, model):\n",
    "    state_dict = model.state_dict()\n",
    "    start = 0\n",
    "    new_state_dict = {}\n",
    "    for key, param in state_dict.items():\n",
    "        end = start + param.numel()\n",
    "        new_state_dict[key] = torch.tensor(param_vector[start:end]).reshape(param.shape)\n",
    "        start = end\n",
    "    return new_state_dict"
   ],
   "metadata": {
    "collapsed": false,
    "ExecuteTime": {
     "end_time": "2025-02-16T14:25:36.330624600Z",
     "start_time": "2025-02-16T14:25:36.292633100Z"
    }
   },
   "id": "a0ba6970611ea549"
  },
  {
   "cell_type": "code",
   "execution_count": 9,
   "outputs": [],
   "source": [
    "# Training function with SGD\n",
    "def train_sgd(model, X_train, y_train, num_epochs=100, lr=0.01):\n",
    "    criterion = nn.CrossEntropyLoss()\n",
    "    optimizer = optim.SGD(model.parameters(), lr=lr)\n",
    "    loss_history = []\n",
    "    accuracy_history = []\n",
    "    for epoch in range(num_epochs):\n",
    "        optimizer.zero_grad()\n",
    "        outputs = model(X_train)\n",
    "        loss = criterion(outputs, y_train)\n",
    "        loss.backward()\n",
    "        optimizer.step()\n",
    "        loss_history.append(loss.item())\n",
    "        _, predicted = torch.max(outputs, 1)\n",
    "        accuracy = (predicted == y_train).sum().item() / y_train.size(0)\n",
    "        accuracy_history.append(accuracy)\n",
    "        if (epoch + 1) % 10 == 0:\n",
    "            print(f\"Epoch [{epoch+1}/{num_epochs}], Loss: {loss.item():.4f}, Accuracy: {accuracy:.4f}\")\n",
    "    return loss_history, accuracy_history"
   ],
   "metadata": {
    "collapsed": false,
    "ExecuteTime": {
     "end_time": "2025-02-16T14:25:36.349626300Z",
     "start_time": "2025-02-16T14:25:36.309627900Z"
    }
   },
   "id": "f9e1106d1b5de5dc"
  },
  {
   "cell_type": "code",
   "execution_count": 10,
   "outputs": [],
   "source": [
    "# Define objective function for PSO\n",
    "def objective_function(params, model):\n",
    "    model_param_size = sum(p.numel() for p in model.parameters())\n",
    "    params = params.reshape(-1, model_param_size)\n",
    "    losses = []\n",
    "    criterion = nn.CrossEntropyLoss()\n",
    "    \n",
    "    # Ensure input is properly shaped for CNNs\n",
    "    if isinstance(model, CNN):\n",
    "        input_data = X_train.unsqueeze(1)  # Add channel dimension (batch_size, 1, sequence_length)\n",
    "    else:\n",
    "        input_data = X_train\n",
    "\n",
    "    for param_set in params:\n",
    "        model.load_state_dict(unflatten_params(param_set, model))\n",
    "        y_pred = model(input_data)  # Ensure correct input format\n",
    "        loss = criterion(y_pred, y_train)\n",
    "        losses.append(loss.item())\n",
    "\n",
    "    return np.array(losses)"
   ],
   "metadata": {
    "collapsed": false,
    "ExecuteTime": {
     "end_time": "2025-02-16T14:25:36.350632Z",
     "start_time": "2025-02-16T14:25:36.323627900Z"
    }
   },
   "id": "a795da42d146a267"
  },
  {
   "cell_type": "code",
   "execution_count": 11,
   "outputs": [],
   "source": [
    "# Training function with PSO\n",
    "def train_pso(model, X_train, y_train, num_epochs=100, n_particles=10):\n",
    "    model_param_size = sum(p.numel() for p in model.parameters())\n",
    "    options = {'c1': 1.5, 'c2': 1.5, 'w': 0.9}\n",
    "    updates_per_epoch = n_particles\n",
    "    iters = num_epochs * updates_per_epoch\n",
    "    optimizer_pso = ps.single.GlobalBestPSO(n_particles=n_particles, dimensions=model_param_size, options=options)\n",
    "    best_cost, best_pos = optimizer_pso.optimize(lambda params: objective_function(params, model), iters=iters)\n",
    "    model.load_state_dict(unflatten_params(best_pos, model))\n",
    "    return best_cost, best_pos"
   ],
   "metadata": {
    "collapsed": false,
    "ExecuteTime": {
     "end_time": "2025-02-16T14:25:36.351628900Z",
     "start_time": "2025-02-16T14:25:36.340630200Z"
    }
   },
   "id": "896daff10a46beb1"
  },
  {
   "cell_type": "code",
   "execution_count": 12,
   "outputs": [],
   "source": [
    "# Evaluate test accuracy\n",
    "def evaluate_accuracy(model, X_test, y_test):\n",
    "    with torch.no_grad():\n",
    "        outputs = model(X_test)\n",
    "        _, predicted = torch.max(outputs, 1)\n",
    "        accuracy = (predicted == y_test).sum().item() / y_test.size(0)\n",
    "    return accuracy"
   ],
   "metadata": {
    "collapsed": false,
    "ExecuteTime": {
     "end_time": "2025-02-16T14:25:36.403746700Z",
     "start_time": "2025-02-16T14:25:36.353630100Z"
    }
   },
   "id": "d4fd0ea2662d7831"
  },
  {
   "cell_type": "code",
   "execution_count": 13,
   "outputs": [],
   "source": [
    "# Plot loss curves\n",
    "def plot_loss_curves(loss, title):\n",
    "    plt.figure()\n",
    "    plt.plot(loss)\n",
    "    plt.xlabel('Epochs')\n",
    "    plt.ylabel('Loss')\n",
    "    plt.title(title)\n",
    "    plt.legend()\n",
    "    plt.show()"
   ],
   "metadata": {
    "collapsed": false,
    "ExecuteTime": {
     "end_time": "2025-02-16T14:25:36.404744Z",
     "start_time": "2025-02-16T14:25:36.367630100Z"
    }
   },
   "id": "a69b80e1f358e151"
  },
  {
   "cell_type": "code",
   "execution_count": 14,
   "outputs": [
    {
     "name": "stdout",
     "output_type": "stream",
     "text": [
      "Epoch [10/100], Loss: 2.3076, Accuracy: 0.0955\n",
      "Epoch [20/100], Loss: 2.3049, Accuracy: 0.1000\n",
      "Epoch [30/100], Loss: 2.3022, Accuracy: 0.1025\n",
      "Epoch [40/100], Loss: 2.2996, Accuracy: 0.1055\n",
      "Epoch [50/100], Loss: 2.2971, Accuracy: 0.1103\n",
      "Epoch [60/100], Loss: 2.2946, Accuracy: 0.1148\n",
      "Epoch [70/100], Loss: 2.2921, Accuracy: 0.1197\n"
     ]
    },
    {
     "name": "stderr",
     "output_type": "stream",
     "text": [
      "2025-02-16 15:25:37,171 - pyswarms.single.global_best - INFO - Optimize for 1000 iters with {'c1': 1.5, 'c2': 1.5, 'w': 0.9}\n"
     ]
    },
    {
     "name": "stdout",
     "output_type": "stream",
     "text": [
      "Epoch [80/100], Loss: 2.2897, Accuracy: 0.1290\n",
      "Epoch [90/100], Loss: 2.2872, Accuracy: 0.1363\n",
      "Epoch [100/100], Loss: 2.2848, Accuracy: 0.1447\n"
     ]
    },
    {
     "name": "stderr",
     "output_type": "stream",
     "text": [
      "pyswarms.single.global_best: 100%|██████████|1000/1000, best_cost=4.74\n",
      "2025-02-16 15:26:33,459 - pyswarms.single.global_best - INFO - Optimization finished | best cost: 4.742923736572266, best pos: [-0.86505555 -0.17799338 -0.61378193 ... -0.86490213  0.00754762\n",
      " -1.3883858 ]\n"
     ]
    },
    {
     "name": "stdout",
     "output_type": "stream",
     "text": [
      "Epoch [10/100], Loss: 2.3072, Accuracy: 0.0993\n",
      "Epoch [20/100], Loss: 2.2992, Accuracy: 0.1075\n",
      "Epoch [30/100], Loss: 2.2922, Accuracy: 0.1242\n",
      "Epoch [40/100], Loss: 2.2859, Accuracy: 0.1477\n",
      "Epoch [50/100], Loss: 2.2798, Accuracy: 0.1675\n",
      "Epoch [60/100], Loss: 2.2738, Accuracy: 0.1802\n",
      "Epoch [70/100], Loss: 2.2676, Accuracy: 0.1908\n",
      "Epoch [80/100], Loss: 2.2611, Accuracy: 0.1975\n",
      "Epoch [90/100], Loss: 2.2541, Accuracy: 0.2032\n"
     ]
    },
    {
     "name": "stderr",
     "output_type": "stream",
     "text": [
      "2025-02-16 15:26:40,729 - pyswarms.single.global_best - INFO - Optimize for 1000 iters with {'c1': 1.5, 'c2': 1.5, 'w': 0.9}\n"
     ]
    },
    {
     "name": "stdout",
     "output_type": "stream",
     "text": [
      "Epoch [100/100], Loss: 2.2466, Accuracy: 0.2067\n"
     ]
    },
    {
     "name": "stderr",
     "output_type": "stream",
     "text": [
      "pyswarms.single.global_best: 100%|██████████|1000/1000, best_cost=2.37\n",
      "2025-02-16 15:32:54,006 - pyswarms.single.global_best - INFO - Optimization finished | best cost: 2.366229295730591, best pos: [-0.66136768 -0.70799151  0.26177201 ...  0.18580481  0.46655141\n",
      " -0.29395345]\n"
     ]
    }
   ],
   "source": [
    "# Train and evaluate models\n",
    "mlp_model_SGD = MLP()\n",
    "mlp_sgd_loss, mlp_sgd_acc = train_sgd(mlp_model_SGD, X_train, y_train)\n",
    "\n",
    "mlp_model_PSO = MLP()\n",
    "mlp_pso_cost, _ = train_pso(mlp_model_PSO, X_train, y_train)\n",
    "\n",
    "cnn_model_SGD = CNN()\n",
    "cnn_sgd_loss, cnn_sgd_acc = train_sgd(cnn_model_SGD, X_train.unsqueeze(1), y_train)\n",
    "\n",
    "cnn_model_PSO = CNN()\n",
    "cnn_pso_cost, _ = train_pso(cnn_model_PSO, X_train.unsqueeze(1), y_train)"
   ],
   "metadata": {
    "collapsed": false,
    "ExecuteTime": {
     "end_time": "2025-02-16T14:32:54.877923700Z",
     "start_time": "2025-02-16T14:25:36.387745100Z"
    }
   },
   "id": "8f67bb0ce92040a3"
  },
  {
   "cell_type": "code",
   "execution_count": 15,
   "outputs": [
    {
     "name": "stderr",
     "output_type": "stream",
     "text": [
      "C:\\Users\\rober\\AppData\\Local\\Temp\\ipykernel_25612\\1122826064.py:8: UserWarning: No artists with labels found to put in legend.  Note that artists whose label start with an underscore are ignored when legend() is called with no argument.\n",
      "  plt.legend()\n"
     ]
    },
    {
     "data": {
      "text/plain": "<Figure size 640x480 with 1 Axes>",
      "image/png": "[encoded data removed]"
     },
     "metadata": {},
     "output_type": "display_data"
    },
    {
     "data": {
      "text/plain": "<Figure size 640x480 with 1 Axes>",
      "image/png": "[encoded data removed]"
     },
     "metadata": {},
     "output_type": "display_data"
    },
    {
     "data": {
      "text/plain": "<Figure size 640x480 with 1 Axes>",
      "image/png": "[encoded data removed]"
     },
     "metadata": {},
     "output_type": "display_data"
    },
    {
     "data": {
      "text/plain": "<Figure size 640x480 with 1 Axes>",
      "image/png": "[encoded data removed]"
     },
     "metadata": {},
     "output_type": "display_data"
    }
   ],
   "source": [
    "plot_loss_curves(mlp_sgd_loss, 'MLP (SGD) Loss Curve')\n",
    "plot_loss_curves(mlp_pso_cost, 'MLP (PSO) Loss Curve')\n",
    "plot_loss_curves(cnn_sgd_loss, 'CNN (SGD) Loss Curve')\n",
    "plot_loss_curves(cnn_pso_cost, 'CNN (PSO) Loss Curve')"
   ],
   "metadata": {
    "collapsed": false,
    "ExecuteTime": {
     "end_time": "2025-02-16T14:32:55.864138500Z",
     "start_time": "2025-02-16T14:32:54.944465100Z"
    }
   },
   "id": "e7baf018d245d769"
  },
  {
   "cell_type": "code",
   "execution_count": 16,
   "outputs": [
    {
     "name": "stdout",
     "output_type": "stream",
     "text": [
      "MLP Test Accuracy (SGD): 0.1467\n",
      "CNN Test Accuracy (SGD): 0.2056\n",
      "MLP Test Accuracy (PSO): 0.0403\n",
      "CNN Test Accuracy (PSO): 0.0993\n"
     ]
    }
   ],
   "source": [
    "# Compute test accuracy\n",
    "mlp_sgd_test_acc = evaluate_accuracy(mlp_model_SGD, X_test, y_test)\n",
    "cnn_sgd_test_acc = evaluate_accuracy(cnn_model_SGD, X_test.unsqueeze(1), y_test)\n",
    "\n",
    "mlp_pso_test_acc = evaluate_accuracy(mlp_model_PSO, X_test, y_test)\n",
    "cnn_pso_test_acc = evaluate_accuracy(cnn_model_PSO, X_test.unsqueeze(1), y_test)\n",
    "\n",
    "print(f\"MLP Test Accuracy (SGD): {mlp_sgd_test_acc:.4f}\")\n",
    "print(f\"CNN Test Accuracy (SGD): {cnn_sgd_test_acc:.4f}\")\n",
    "\n",
    "print(f\"MLP Test Accuracy (PSO): {mlp_pso_test_acc:.4f}\")\n",
    "print(f\"CNN Test Accuracy (PSO): {cnn_pso_test_acc:.4f}\")"
   ],
   "metadata": {
    "collapsed": false,
    "ExecuteTime": {
     "end_time": "2025-02-16T14:32:56.191057400Z",
     "start_time": "2025-02-16T14:32:55.861140600Z"
    }
   },
   "id": "d06390851251256e"
  }
 ],
 "metadata": {
  "kernelspec": {
   "display_name": "Python 3",
   "language": "python",
   "name": "python3"
  },
  "language_info": {
   "codemirror_mode": {
    "name": "ipython",
    "version": 2
   },
   "file_extension": ".py",
   "mimetype": "text/x-python",
   "name": "python",
   "nbconvert_exporter": "python",
   "pygments_lexer": "ipython2",
   "version": "2.7.6"
  }
 },
 "nbformat": 4,
 "nbformat_minor": 5
}
